{
  "cells": [
    {
      "cell_type": "markdown",
      "metadata": {
        "colab_type": "text",
        "id": "view-in-github"
      },
      "source": [
        "<a href=\"https://colab.research.google.com/github/jendives2000/regressions/blob/main/Linear%20Regressions%20Practice%202.ipynb\" target=\"_parent\"><img src=\"https://colab.research.google.com/assets/colab-badge.svg\" alt=\"Open In Colab\"/></a>"
      ]
    },
    {
      "cell_type": "code",
      "execution_count": 2,
      "metadata": {
        "id": "IvItUqRXHXbB"
      },
      "outputs": [],
      "source": [
        "import numpy as np\n",
        "import matplotlib.pyplot as plt"
      ]
    },
    {
      "cell_type": "markdown",
      "metadata": {
        "id": "U4PWMde6B8H1"
      },
      "source": [
        "You are working as a data scientist for a retail company. The management wants to understand the **relationship between the number of online customer reviews for a product and the monthly sales figures for that product**. They believe that **more reviews should correlate with higher sales** but want to quantify this relationship to guide marketing strategies.\n",
        "\n",
        "# **Problem**\n",
        "\n",
        "Using the provided dataset, perform a **linear regression analysis** to determine the relationship between:\n",
        "*   the number of customer reviews (independent variable 𝑋)\n",
        "*   and monthly sales (dependent variable 𝑌).\n",
        "\n",
        "**Calculate the Pearson correlation coefficient to assess the strength of this relationship.**\n",
        "\n",
        "\n",
        "---\n",
        "\n"
      ]
    },
    {
      "cell_type": "markdown",
      "metadata": {
        "id": "4bHd-vEmC9wU"
      },
      "source": [
        "### Dataset\n",
        "We get a random dataset of 120 rows:"
      ]
    },
    {
      "cell_type": "code",
      "execution_count": 4,
      "metadata": {
        "colab": {
          "base_uri": "https://localhost:8080/",
          "height": 242
        },
        "id": "h2640E7kIx5C",
        "outputId": "cf9ab8e7-7e96-4c73-d777-88ed46a0f44f"
      },
      "outputs": [
        {
          "data": {
            "application/vnd.google.colaboratory.intrinsic+json": {
              "summary": "{\n  \"name\": \"df\",\n  \"rows\": 120,\n  \"fields\": [\n    {\n      \"column\": \"Customer Reviews (X)\",\n      \"properties\": {\n        \"dtype\": \"number\",\n        \"std\": 139,\n        \"min\": 11,\n        \"max\": 494,\n        \"num_unique_values\": 105,\n        \"samples\": [\n          469,\n          349,\n          62\n        ],\n        \"semantic_type\": \"\",\n        \"description\": \"\"\n      }\n    },\n    {\n      \"column\": \"Monthly Sales (Y)\",\n      \"properties\": {\n        \"dtype\": \"number\",\n        \"std\": 70.40777835914935,\n        \"min\": -17.48560585584508,\n        \"max\": 264.88505294255185,\n        \"num_unique_values\": 120,\n        \"samples\": [\n          122.44867265306618,\n          55.41212629669704,\n          41.07694999235103\n        ],\n        \"semantic_type\": \"\",\n        \"description\": \"\"\n      }\n    }\n  ]\n}",
              "type": "dataframe",
              "variable_name": "df"
            },
            "text/html": [
              "\n",
              "  <div id=\"df-b4887d07-edca-43b5-9382-f100ad2c73f7\" class=\"colab-df-container\">\n",
              "    <div>\n",
              "<style scoped>\n",
              "    .dataframe tbody tr th:only-of-type {\n",
              "        vertical-align: middle;\n",
              "    }\n",
              "\n",
              "    .dataframe tbody tr th {\n",
              "        vertical-align: top;\n",
              "    }\n",
              "\n",
              "    .dataframe thead th {\n",
              "        text-align: right;\n",
              "    }\n",
              "</style>\n",
              "<table border=\"1\" class=\"dataframe\">\n",
              "  <thead>\n",
              "    <tr style=\"text-align: right;\">\n",
              "      <th></th>\n",
              "      <th>Customer Reviews (X)</th>\n",
              "      <th>Monthly Sales (Y)</th>\n",
              "    </tr>\n",
              "  </thead>\n",
              "  <tbody>\n",
              "    <tr>\n",
              "      <th>0</th>\n",
              "      <td>112</td>\n",
              "      <td>64.590457</td>\n",
              "    </tr>\n",
              "    <tr>\n",
              "      <th>1</th>\n",
              "      <td>445</td>\n",
              "      <td>178.423996</td>\n",
              "    </tr>\n",
              "    <tr>\n",
              "      <th>2</th>\n",
              "      <td>358</td>\n",
              "      <td>187.102099</td>\n",
              "    </tr>\n",
              "    <tr>\n",
              "      <th>3</th>\n",
              "      <td>280</td>\n",
              "      <td>130.372943</td>\n",
              "    </tr>\n",
              "    <tr>\n",
              "      <th>4</th>\n",
              "      <td>116</td>\n",
              "      <td>41.076950</td>\n",
              "    </tr>\n",
              "  </tbody>\n",
              "</table>\n",
              "</div>\n",
              "    <div class=\"colab-df-buttons\">\n",
              "\n",
              "  <div class=\"colab-df-container\">\n",
              "    <button class=\"colab-df-convert\" onclick=\"convertToInteractive('df-b4887d07-edca-43b5-9382-f100ad2c73f7')\"\n",
              "            title=\"Convert this dataframe to an interactive table.\"\n",
              "            style=\"display:none;\">\n",
              "\n",
              "  <svg xmlns=\"http://www.w3.org/2000/svg\" height=\"24px\" viewBox=\"0 -960 960 960\">\n",
              "    <path d=\"M120-120v-720h720v720H120Zm60-500h600v-160H180v160Zm220 220h160v-160H400v160Zm0 220h160v-160H400v160ZM180-400h160v-160H180v160Zm440 0h160v-160H620v160ZM180-180h160v-160H180v160Zm440 0h160v-160H620v160Z\"/>\n",
              "  </svg>\n",
              "    </button>\n",
              "\n",
              "  <style>\n",
              "    .colab-df-container {\n",
              "      display:flex;\n",
              "      gap: 12px;\n",
              "    }\n",
              "\n",
              "    .colab-df-convert {\n",
              "      background-color: #E8F0FE;\n",
              "      border: none;\n",
              "      border-radius: 50%;\n",
              "      cursor: pointer;\n",
              "      display: none;\n",
              "      fill: #1967D2;\n",
              "      height: 32px;\n",
              "      padding: 0 0 0 0;\n",
              "      width: 32px;\n",
              "    }\n",
              "\n",
              "    .colab-df-convert:hover {\n",
              "      background-color: #E2EBFA;\n",
              "      box-shadow: 0px 1px 2px rgba(60, 64, 67, 0.3), 0px 1px 3px 1px rgba(60, 64, 67, 0.15);\n",
              "      fill: #174EA6;\n",
              "    }\n",
              "\n",
              "    .colab-df-buttons div {\n",
              "      margin-bottom: 4px;\n",
              "    }\n",
              "\n",
              "    [theme=dark] .colab-df-convert {\n",
              "      background-color: #3B4455;\n",
              "      fill: #D2E3FC;\n",
              "    }\n",
              "\n",
              "    [theme=dark] .colab-df-convert:hover {\n",
              "      background-color: #434B5C;\n",
              "      box-shadow: 0px 1px 3px 1px rgba(0, 0, 0, 0.15);\n",
              "      filter: drop-shadow(0px 1px 2px rgba(0, 0, 0, 0.3));\n",
              "      fill: #FFFFFF;\n",
              "    }\n",
              "  </style>\n",
              "\n",
              "    <script>\n",
              "      const buttonEl =\n",
              "        document.querySelector('#df-b4887d07-edca-43b5-9382-f100ad2c73f7 button.colab-df-convert');\n",
              "      buttonEl.style.display =\n",
              "        google.colab.kernel.accessAllowed ? 'block' : 'none';\n",
              "\n",
              "      async function convertToInteractive(key) {\n",
              "        const element = document.querySelector('#df-b4887d07-edca-43b5-9382-f100ad2c73f7');\n",
              "        const dataTable =\n",
              "          await google.colab.kernel.invokeFunction('convertToInteractive',\n",
              "                                                    [key], {});\n",
              "        if (!dataTable) return;\n",
              "\n",
              "        const docLinkHtml = 'Like what you see? Visit the ' +\n",
              "          '<a target=\"_blank\" href=https://colab.research.google.com/notebooks/data_table.ipynb>data table notebook</a>'\n",
              "          + ' to learn more about interactive tables.';\n",
              "        element.innerHTML = '';\n",
              "        dataTable['output_type'] = 'display_data';\n",
              "        await google.colab.output.renderOutput(dataTable, element);\n",
              "        const docLink = document.createElement('div');\n",
              "        docLink.innerHTML = docLinkHtml;\n",
              "        element.appendChild(docLink);\n",
              "      }\n",
              "    </script>\n",
              "  </div>\n",
              "\n",
              "\n",
              "<div id=\"df-5dcd84b6-bc2f-4cc2-9812-8553e79da6b5\">\n",
              "  <button class=\"colab-df-quickchart\" onclick=\"quickchart('df-5dcd84b6-bc2f-4cc2-9812-8553e79da6b5')\"\n",
              "            title=\"Suggest charts\"\n",
              "            style=\"display:none;\">\n",
              "\n",
              "<svg xmlns=\"http://www.w3.org/2000/svg\" height=\"24px\"viewBox=\"0 0 24 24\"\n",
              "     width=\"24px\">\n",
              "    <g>\n",
              "        <path d=\"M19 3H5c-1.1 0-2 .9-2 2v14c0 1.1.9 2 2 2h14c1.1 0 2-.9 2-2V5c0-1.1-.9-2-2-2zM9 17H7v-7h2v7zm4 0h-2V7h2v10zm4 0h-2v-4h2v4z\"/>\n",
              "    </g>\n",
              "</svg>\n",
              "  </button>\n",
              "\n",
              "<style>\n",
              "  .colab-df-quickchart {\n",
              "      --bg-color: #E8F0FE;\n",
              "      --fill-color: #1967D2;\n",
              "      --hover-bg-color: #E2EBFA;\n",
              "      --hover-fill-color: #174EA6;\n",
              "      --disabled-fill-color: #AAA;\n",
              "      --disabled-bg-color: #DDD;\n",
              "  }\n",
              "\n",
              "  [theme=dark] .colab-df-quickchart {\n",
              "      --bg-color: #3B4455;\n",
              "      --fill-color: #D2E3FC;\n",
              "      --hover-bg-color: #434B5C;\n",
              "      --hover-fill-color: #FFFFFF;\n",
              "      --disabled-bg-color: #3B4455;\n",
              "      --disabled-fill-color: #666;\n",
              "  }\n",
              "\n",
              "  .colab-df-quickchart {\n",
              "    background-color: var(--bg-color);\n",
              "    border: none;\n",
              "    border-radius: 50%;\n",
              "    cursor: pointer;\n",
              "    display: none;\n",
              "    fill: var(--fill-color);\n",
              "    height: 32px;\n",
              "    padding: 0;\n",
              "    width: 32px;\n",
              "  }\n",
              "\n",
              "  .colab-df-quickchart:hover {\n",
              "    background-color: var(--hover-bg-color);\n",
              "    box-shadow: 0 1px 2px rgba(60, 64, 67, 0.3), 0 1px 3px 1px rgba(60, 64, 67, 0.15);\n",
              "    fill: var(--button-hover-fill-color);\n",
              "  }\n",
              "\n",
              "  .colab-df-quickchart-complete:disabled,\n",
              "  .colab-df-quickchart-complete:disabled:hover {\n",
              "    background-color: var(--disabled-bg-color);\n",
              "    fill: var(--disabled-fill-color);\n",
              "    box-shadow: none;\n",
              "  }\n",
              "\n",
              "  .colab-df-spinner {\n",
              "    border: 2px solid var(--fill-color);\n",
              "    border-color: transparent;\n",
              "    border-bottom-color: var(--fill-color);\n",
              "    animation:\n",
              "      spin 1s steps(1) infinite;\n",
              "  }\n",
              "\n",
              "  @keyframes spin {\n",
              "    0% {\n",
              "      border-color: transparent;\n",
              "      border-bottom-color: var(--fill-color);\n",
              "      border-left-color: var(--fill-color);\n",
              "    }\n",
              "    20% {\n",
              "      border-color: transparent;\n",
              "      border-left-color: var(--fill-color);\n",
              "      border-top-color: var(--fill-color);\n",
              "    }\n",
              "    30% {\n",
              "      border-color: transparent;\n",
              "      border-left-color: var(--fill-color);\n",
              "      border-top-color: var(--fill-color);\n",
              "      border-right-color: var(--fill-color);\n",
              "    }\n",
              "    40% {\n",
              "      border-color: transparent;\n",
              "      border-right-color: var(--fill-color);\n",
              "      border-top-color: var(--fill-color);\n",
              "    }\n",
              "    60% {\n",
              "      border-color: transparent;\n",
              "      border-right-color: var(--fill-color);\n",
              "    }\n",
              "    80% {\n",
              "      border-color: transparent;\n",
              "      border-right-color: var(--fill-color);\n",
              "      border-bottom-color: var(--fill-color);\n",
              "    }\n",
              "    90% {\n",
              "      border-color: transparent;\n",
              "      border-bottom-color: var(--fill-color);\n",
              "    }\n",
              "  }\n",
              "</style>\n",
              "\n",
              "  <script>\n",
              "    async function quickchart(key) {\n",
              "      const quickchartButtonEl =\n",
              "        document.querySelector('#' + key + ' button');\n",
              "      quickchartButtonEl.disabled = true;  // To prevent multiple clicks.\n",
              "      quickchartButtonEl.classList.add('colab-df-spinner');\n",
              "      try {\n",
              "        const charts = await google.colab.kernel.invokeFunction(\n",
              "            'suggestCharts', [key], {});\n",
              "      } catch (error) {\n",
              "        console.error('Error during call to suggestCharts:', error);\n",
              "      }\n",
              "      quickchartButtonEl.classList.remove('colab-df-spinner');\n",
              "      quickchartButtonEl.classList.add('colab-df-quickchart-complete');\n",
              "    }\n",
              "    (() => {\n",
              "      let quickchartButtonEl =\n",
              "        document.querySelector('#df-5dcd84b6-bc2f-4cc2-9812-8553e79da6b5 button');\n",
              "      quickchartButtonEl.style.display =\n",
              "        google.colab.kernel.accessAllowed ? 'block' : 'none';\n",
              "    })();\n",
              "  </script>\n",
              "</div>\n",
              "\n",
              "    </div>\n",
              "  </div>\n"
            ],
            "text/plain": [
              "   Customer Reviews (X)  Monthly Sales (Y)\n",
              "0                   112          64.590457\n",
              "1                   445         178.423996\n",
              "2                   358         187.102099\n",
              "3                   280         130.372943\n",
              "4                   116          41.076950"
            ]
          },
          "execution_count": 4,
          "metadata": {},
          "output_type": "execute_result"
        }
      ],
      "source": [
        "import pandas as pd\n",
        "\n",
        "# Set random seed for reproducibility\n",
        "np.random.seed(42)\n",
        "\n",
        "# Generate a dataset with 120 rows\n",
        "n = 120\n",
        "X = np.random.randint(10, 500, size=n)  # Number of customer reviews (random integers between 10 and 500)\n",
        "Y = X * 0.5 + np.random.normal(0, 25, size=n)  # Monthly sales figures with some added noise\n",
        "\n",
        "# Create a DataFrame\n",
        "df = pd.DataFrame({'Customer Reviews (X)': X, 'Monthly Sales (Y)': Y})\n",
        "\n",
        "# Save the dataset to a CSV file\n",
        "df.to_csv('customer_reviews_sales_data.csv', index=False)\n",
        "\n",
        "# Display the first few rows of the dataset\n",
        "df.head()"
      ]
    },
    {
      "cell_type": "markdown",
      "metadata": {
        "id": "eGihl6CBDNHU"
      },
      "source": [
        "From the dataset we know that:  \n",
        "n = 120\n",
        "\n",
        "\n",
        "---\n",
        "\n"
      ]
    },
    {
      "cell_type": "markdown",
      "metadata": {
        "id": "IIdZ6braDk3m"
      },
      "source": [
        "### Arrays for X and Y\n",
        "We now need to gather all the values of the variable x and the ones of y into separate arrays:"
      ]
    },
    {
      "cell_type": "code",
      "execution_count": 5,
      "metadata": {
        "id": "6m2JEK_LDB-G"
      },
      "outputs": [],
      "source": [
        "# getting all the x values into a variable:\n",
        "\n",
        "x_values = df['Customer Reviews (X)'].values\n",
        "\n",
        "# getting all the y values into a variable:\n",
        "\n",
        "y_values = df['Monthly Sales (Y)'].values"
      ]
    },
    {
      "cell_type": "markdown",
      "metadata": {
        "id": "0H0GLMUxEAcR"
      },
      "source": [
        "\n",
        "### Computation of the PCC\n",
        "Here is the Pearson r Correlation Coefficient formula:   \n",
        "\n",
        "$$\n",
        "r = \\frac{n(\\sum XY) - (\\sum X)(\\sum Y)}{\\sqrt{[n\\sum X^2 - (\\sum X)^2][n\\sum Y^2 - (\\sum Y)^2]}}\n",
        "$$"
      ]
    },
    {
      "cell_type": "markdown",
      "metadata": {
        "id": "IsAza9-mKhzo"
      },
      "source": [
        "Let's calculate it using numpy!"
      ]
    },
    {
      "cell_type": "code",
      "execution_count": 6,
      "metadata": {
        "colab": {
          "base_uri": "https://localhost:8080/"
        },
        "id": "nRaNVF64Iym8",
        "outputId": "569828b8-cdc2-48c8-eeb3-3cc9940f98ec"
      },
      "outputs": [
        {
          "name": "stdout",
          "output_type": "stream",
          "text": [
            "0.943\n"
          ]
        }
      ],
      "source": [
        "import numpy as np\n",
        "\n",
        "def pearson_correlation_coefficient(x, y):\n",
        "    \"\"\"\n",
        "    Args:\n",
        "        x: The first array.\n",
        "        y: The second array.\n",
        "\n",
        "    Returns:\n",
        "        The Pearson correlation coefficient.\n",
        "    \"\"\"\n",
        "\n",
        "    # Calculate the sums and sums of squares\n",
        "    sum_x = np.sum(x)\n",
        "    sum_y = np.sum(y)\n",
        "    sum_xy = np.sum(x * y)\n",
        "    sum_x_squared = np.sum(x ** 2)\n",
        "    sum_y_squared = np.sum(y ** 2)\n",
        "\n",
        "    # Calculate the numerator and denominator of the formula\n",
        "    numerator = n * sum_xy - sum_x * sum_y\n",
        "    denominator = np.sqrt((n * sum_x_squared - sum_x ** 2) * (n * sum_y_squared - sum_y ** 2))\n",
        "\n",
        "    # Return the Pearson correlation coefficient\n",
        "    return numerator / denominator\n",
        "\n",
        "pcc = pearson_correlation_coefficient(x_values, y_values)\n",
        "print(round(pcc, 3))\n"
      ]
    },
    {
      "cell_type": "markdown",
      "metadata": {
        "id": "JeR0GxtXLCyV"
      },
      "source": [
        "$$\n",
        "r = 0.943\n",
        "$$"
      ]
    },
    {
      "cell_type": "markdown",
      "metadata": {
        "id": "xqmyWaXlLRiL"
      },
      "source": [
        "The result of the Pearson r correlation coefficient is in the nineties. This indicates **a strong relation between the variable x and y.**\n",
        "\n",
        "## Conclusion\n",
        "\n",
        "The Pearson correlation coefficient and the linear regression analysis both indicate a **strong positive relationship** between **the number of reviews and the monthly sales**.\n",
        "\n",
        "This suggests that, **as the number of reviews increases, sales of that product increase as well.**\n",
        "\n",
        "### Recommendations: \n",
        "\n",
        "#### a. Refine Data on Reviews Sentiments\n",
        "To gain deeper insights, I recommend that **the Marketing team collaborates with the Data team** to refine the analysis by **examining different types of reviews** (e.g., positive, negative, and spam) and their specific impact on sales. This would provide a **more nuanced understanding** of how various review sentiments influence customer behavior.  \n",
        "\n",
        "#### b. Time-based Analysis\n",
        "Additionally, I suggest incorporating **a time-based analysis to identify seasonal patterns** in the relationship between review types, their volume, and sales impact. Understanding these patterns could **help tailor the marketing strategy** to leverage key periods more effectively, optimizing promotional efforts based on new, time-sensitive insights.  \n",
        "\n",
        "Examine **the frequency and timing of reviews** to understand how they **correlate with sales spikes**. This analysis can reveal **whether sales are more affected by recent reviews or by a cumulative effect over time**. Leveraging this information can help in planning review-generation campaigns to coincide with peak sales periods.\n",
        "\n",
        "#### c. Segment Analysis by Product Categories\n",
        "Conduct a **segmented analysis to determine if the relationship between reviews and sales varies by product category**. This could help the Marketing team create more tailored strategies, focusing on categories where reviews have the most significant impact.\n",
        "\n",
        "#### d. Monitor Competitor Reviews:  \n",
        "Extend the analysis to **include competitor products and their reviews**. Understanding how competitor reviews impact their sales could help identify opportunities for differentiation and improvement in your marketing strategies.\n",
        "\n",
        "#### e. Integrate Other Data Sources: \n",
        "**Combine this analysis with other relevant data sources**, such as pricing, promotions, or product availability, to **understand the broader context**. This multi-variable analysis can **help pinpoint additional factors** influencing sales and optimize the overall strategy accordingly.\n",
        "\n",
        "\n",
        "\n",
        "---\n",
        "\n"
      ]
    },
    {
      "cell_type": "markdown",
      "metadata": {
        "id": "1YsaFvtwLyqG"
      },
      "source": [
        "### Visualization\n",
        "Let's visualize it:"
      ]
    },
    {
      "cell_type": "code",
      "execution_count": 7,
      "metadata": {
        "colab": {
          "base_uri": "https://localhost:8080/",
          "height": 564
        },
        "id": "VAwV4qK1K2es",
        "outputId": "262287d4-1fa2-4364-f66c-9b2b63ed2262"
      },
      "outputs": [
        {
          "data": {
            "image/png": "[encoded data removed]",
            "text/plain": [
              "<Figure size 800x600 with 1 Axes>"
            ]
          },
          "metadata": {},
          "output_type": "display_data"
        }
      ],
      "source": [
        "# Assuming your dataset is in a pandas DataFrame called 'df'\n",
        "# with columns 'advertising_spending' and 'revenue'\n",
        "\n",
        "plt.figure(figsize=(8, 6))\n",
        "plt.scatter(df['Customer Reviews (X)'], df['Monthly Sales (Y)'])\n",
        "plt.xlabel('Number of customer reviews')\n",
        "plt.ylabel('Monthly sales')\n",
        "plt.title('Scatter Plot of Number of Reviews vs. Sales')\n",
        "plt.grid(True)\n",
        "plt.show()"
      ]
    },
    {
      "cell_type": "code",
      "execution_count": 8,
      "metadata": {
        "colab": {
          "base_uri": "https://localhost:8080/",
          "height": 564
        },
        "id": "hzSsBqEDMIH5",
        "outputId": "74e10d60-48e0-4170-d875-1c81f42f8d2b"
      },
      "outputs": [
        {
          "data": {
            "image/png": "[encoded data removed]",
            "text/plain": [
              "<Figure size 800x600 with 1 Axes>"
            ]
          },
          "metadata": {},
          "output_type": "display_data"
        }
      ],
      "source": [
        "from scipy import stats\n",
        "\n",
        "# Perform linear regression\n",
        "slope, intercept, _, _, _ = stats.linregress(x_values, y_values)\n",
        "\n",
        "# Create the scatter plot\n",
        "plt.figure(figsize=(8, 6))\n",
        "plt.scatter(x_values, y_values)\n",
        "\n",
        "# Create the regression line\n",
        "regression_line = slope * x_values + intercept\n",
        "plt.plot(x_values, regression_line, color='red')\n",
        "\n",
        "plt.xlabel('Number of customer reviews')\n",
        "plt.ylabel('Monthly sales')\n",
        "plt.title('Scatter Plot of Number of Reviews vs. Sales')\n",
        "plt.grid(True)\n",
        "plt.show()"
      ]
    },
    {
      "cell_type": "code",
      "execution_count": null,
      "metadata": {
        "id": "f_yvaYXPM_V9"
      },
      "outputs": [],
      "source": []
    }
  ],
  "metadata": {
    "colab": {
      "authorship_tag": "ABX9TyPtS3L0fewgZ7U5l3RCkMlp",
      "include_colab_link": true,
      "provenance": [],
      "toc_visible": true
    },
    "kernelspec": {
      "display_name": "Python 3",
      "name": "python3"
    },
    "language_info": {
      "name": "python"
    }
  },
  "nbformat": 4,
  "nbformat_minor": 0
}
