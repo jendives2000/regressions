{
  "cells": [
    {
      "cell_type": "code",
      "execution_count": null,
      "metadata": {
        "id": "IvItUqRXHXbB"
      },
      "outputs": [],
      "source": [
        "import numpy as np\n",
        "import matplotlib.pyplot as plt"
      ]
    },
    {
      "cell_type": "markdown",
      "metadata": {
        "id": "U4PWMde6B8H1"
      },
      "source": [
        "You are a data scientist working for an e-commerce company.\n",
        "\n",
        "The marketing team wants to understand the **relationship between the amount of money spent on online advertising and the revenue generated from those ads**.\n",
        "\n",
        "They believe that higher advertising spending should correlate with higher revenue, but they want to quantify this relationship.\n",
        "\n",
        "# **Problem**\n",
        "\n",
        "Using the provided dataset, **perform a linear regression analysis to determine the relationship** between advertising spending (independent variable\n",
        "𝑋, in thousands of dollars) and revenue generated (dependent variable\n",
        "𝑌, in thousands of dollars).\n",
        "\n",
        "**Calculate the Pearson correlation coefficient to assess the strength of this relationship.**\n",
        "\n",
        "\n",
        "---\n",
        "\n"
      ]
    },
    {
      "cell_type": "markdown",
      "metadata": {
        "id": "4bHd-vEmC9wU"
      },
      "source": [
        "### Dataset\n",
        "Here is the provided dataset:"
      ]
    },
    {
      "cell_type": "code",
      "execution_count": null,
      "metadata": {
        "colab": {
          "base_uri": "https://localhost:8080/",
          "height": 348
        },
        "id": "Ef6MytN0C_md",
        "outputId": "6a07d011-6408-449a-9eb7-3edb2359f219"
      },
      "outputs": [
        {
          "data": {
            "application/vnd.google.colaboratory.intrinsic+json": {
              "summary": "{\n  \"name\": \"df\",\n  \"rows\": 10,\n  \"fields\": [\n    {\n      \"column\": \"Advertising Spending (X)\",\n      \"properties\": {\n        \"dtype\": \"number\",\n        \"std\": 1.5138251770487459,\n        \"min\": 1.5,\n        \"max\": 6.0,\n        \"num_unique_values\": 10,\n        \"samples\": [\n          5.5,\n          2.0,\n          4.0\n        ],\n        \"semantic_type\": \"\",\n        \"description\": \"\"\n      }\n    },\n    {\n      \"column\": \"Revenue (Y)\",\n      \"properties\": {\n        \"dtype\": \"number\",\n        \"std\": 1.8226964152656422,\n        \"min\": 7.0,\n        \"max\": 12.5,\n        \"num_unique_values\": 10,\n        \"samples\": [\n          12.0,\n          8.0,\n          10.0\n        ],\n        \"semantic_type\": \"\",\n        \"description\": \"\"\n      }\n    }\n  ]\n}",
              "type": "dataframe",
              "variable_name": "df"
            },
            "text/html": [
              "\n",
              "  <div id=\"df-92ddff0c-8fc8-4c0c-9516-79d283e32d50\" class=\"colab-df-container\">\n",
              "    <div>\n",
              "<style scoped>\n",
              "    .dataframe tbody tr th:only-of-type {\n",
              "        vertical-align: middle;\n",
              "    }\n",
              "\n",
              "    .dataframe tbody tr th {\n",
              "        vertical-align: top;\n",
              "    }\n",
              "\n",
              "    .dataframe thead th {\n",
              "        text-align: right;\n",
              "    }\n",
              "</style>\n",
              "<table border=\"1\" class=\"dataframe\">\n",
              "  <thead>\n",
              "    <tr style=\"text-align: right;\">\n",
              "      <th></th>\n",
              "      <th>Advertising Spending (X)</th>\n",
              "      <th>Revenue (Y)</th>\n",
              "    </tr>\n",
              "  </thead>\n",
              "  <tbody>\n",
              "    <tr>\n",
              "      <th>0</th>\n",
              "      <td>1.5</td>\n",
              "      <td>7.0</td>\n",
              "    </tr>\n",
              "    <tr>\n",
              "      <th>1</th>\n",
              "      <td>2.0</td>\n",
              "      <td>8.0</td>\n",
              "    </tr>\n",
              "    <tr>\n",
              "      <th>2</th>\n",
              "      <td>2.5</td>\n",
              "      <td>8.5</td>\n",
              "    </tr>\n",
              "    <tr>\n",
              "      <th>3</th>\n",
              "      <td>3.0</td>\n",
              "      <td>9.0</td>\n",
              "    </tr>\n",
              "    <tr>\n",
              "      <th>4</th>\n",
              "      <td>3.5</td>\n",
              "      <td>9.5</td>\n",
              "    </tr>\n",
              "    <tr>\n",
              "      <th>5</th>\n",
              "      <td>4.0</td>\n",
              "      <td>10.0</td>\n",
              "    </tr>\n",
              "    <tr>\n",
              "      <th>6</th>\n",
              "      <td>4.5</td>\n",
              "      <td>11.0</td>\n",
              "    </tr>\n",
              "    <tr>\n",
              "      <th>7</th>\n",
              "      <td>5.0</td>\n",
              "      <td>11.5</td>\n",
              "    </tr>\n",
              "    <tr>\n",
              "      <th>8</th>\n",
              "      <td>5.5</td>\n",
              "      <td>12.0</td>\n",
              "    </tr>\n",
              "    <tr>\n",
              "      <th>9</th>\n",
              "      <td>6.0</td>\n",
              "      <td>12.5</td>\n",
              "    </tr>\n",
              "  </tbody>\n",
              "</table>\n",
              "</div>\n",
              "    <div class=\"colab-df-buttons\">\n",
              "\n",
              "  <div class=\"colab-df-container\">\n",
              "    <button class=\"colab-df-convert\" onclick=\"convertToInteractive('df-92ddff0c-8fc8-4c0c-9516-79d283e32d50')\"\n",
              "            title=\"Convert this dataframe to an interactive table.\"\n",
              "            style=\"display:none;\">\n",
              "\n",
              "  <svg xmlns=\"http://www.w3.org/2000/svg\" height=\"24px\" viewBox=\"0 -960 960 960\">\n",
              "    <path d=\"M120-120v-720h720v720H120Zm60-500h600v-160H180v160Zm220 220h160v-160H400v160Zm0 220h160v-160H400v160ZM180-400h160v-160H180v160Zm440 0h160v-160H620v160ZM180-180h160v-160H180v160Zm440 0h160v-160H620v160Z\"/>\n",
              "  </svg>\n",
              "    </button>\n",
              "\n",
              "  <style>\n",
              "    .colab-df-container {\n",
              "      display:flex;\n",
              "      gap: 12px;\n",
              "    }\n",
              "\n",
              "    .colab-df-convert {\n",
              "      background-color: #E8F0FE;\n",
              "      border: none;\n",
              "      border-radius: 50%;\n",
              "      cursor: pointer;\n",
              "      display: none;\n",
              "      fill: #1967D2;\n",
              "      height: 32px;\n",
              "      padding: 0 0 0 0;\n",
              "      width: 32px;\n",
              "    }\n",
              "\n",
              "    .colab-df-convert:hover {\n",
              "      background-color: #E2EBFA;\n",
              "      box-shadow: 0px 1px 2px rgba(60, 64, 67, 0.3), 0px 1px 3px 1px rgba(60, 64, 67, 0.15);\n",
              "      fill: #174EA6;\n",
              "    }\n",
              "\n",
              "    .colab-df-buttons div {\n",
              "      margin-bottom: 4px;\n",
              "    }\n",
              "\n",
              "    [theme=dark] .colab-df-convert {\n",
              "      background-color: #3B4455;\n",
              "      fill: #D2E3FC;\n",
              "    }\n",
              "\n",
              "    [theme=dark] .colab-df-convert:hover {\n",
              "      background-color: #434B5C;\n",
              "      box-shadow: 0px 1px 3px 1px rgba(0, 0, 0, 0.15);\n",
              "      filter: drop-shadow(0px 1px 2px rgba(0, 0, 0, 0.3));\n",
              "      fill: #FFFFFF;\n",
              "    }\n",
              "  </style>\n",
              "\n",
              "    <script>\n",
              "      const buttonEl =\n",
              "        document.querySelector('#df-92ddff0c-8fc8-4c0c-9516-79d283e32d50 button.colab-df-convert');\n",
              "      buttonEl.style.display =\n",
              "        google.colab.kernel.accessAllowed ? 'block' : 'none';\n",
              "\n",
              "      async function convertToInteractive(key) {\n",
              "        const element = document.querySelector('#df-92ddff0c-8fc8-4c0c-9516-79d283e32d50');\n",
              "        const dataTable =\n",
              "          await google.colab.kernel.invokeFunction('convertToInteractive',\n",
              "                                                    [key], {});\n",
              "        if (!dataTable) return;\n",
              "\n",
              "        const docLinkHtml = 'Like what you see? Visit the ' +\n",
              "          '<a target=\"_blank\" href=https://colab.research.google.com/notebooks/data_table.ipynb>data table notebook</a>'\n",
              "          + ' to learn more about interactive tables.';\n",
              "        element.innerHTML = '';\n",
              "        dataTable['output_type'] = 'display_data';\n",
              "        await google.colab.output.renderOutput(dataTable, element);\n",
              "        const docLink = document.createElement('div');\n",
              "        docLink.innerHTML = docLinkHtml;\n",
              "        element.appendChild(docLink);\n",
              "      }\n",
              "    </script>\n",
              "  </div>\n",
              "\n",
              "\n",
              "<div id=\"df-841adb54-58e4-4b68-8b63-f857d75a78ac\">\n",
              "  <button class=\"colab-df-quickchart\" onclick=\"quickchart('df-841adb54-58e4-4b68-8b63-f857d75a78ac')\"\n",
              "            title=\"Suggest charts\"\n",
              "            style=\"display:none;\">\n",
              "\n",
              "<svg xmlns=\"http://www.w3.org/2000/svg\" height=\"24px\"viewBox=\"0 0 24 24\"\n",
              "     width=\"24px\">\n",
              "    <g>\n",
              "        <path d=\"M19 3H5c-1.1 0-2 .9-2 2v14c0 1.1.9 2 2 2h14c1.1 0 2-.9 2-2V5c0-1.1-.9-2-2-2zM9 17H7v-7h2v7zm4 0h-2V7h2v10zm4 0h-2v-4h2v4z\"/>\n",
              "    </g>\n",
              "</svg>\n",
              "  </button>\n",
              "\n",
              "<style>\n",
              "  .colab-df-quickchart {\n",
              "      --bg-color: #E8F0FE;\n",
              "      --fill-color: #1967D2;\n",
              "      --hover-bg-color: #E2EBFA;\n",
              "      --hover-fill-color: #174EA6;\n",
              "      --disabled-fill-color: #AAA;\n",
              "      --disabled-bg-color: #DDD;\n",
              "  }\n",
              "\n",
              "  [theme=dark] .colab-df-quickchart {\n",
              "      --bg-color: #3B4455;\n",
              "      --fill-color: #D2E3FC;\n",
              "      --hover-bg-color: #434B5C;\n",
              "      --hover-fill-color: #FFFFFF;\n",
              "      --disabled-bg-color: #3B4455;\n",
              "      --disabled-fill-color: #666;\n",
              "  }\n",
              "\n",
              "  .colab-df-quickchart {\n",
              "    background-color: var(--bg-color);\n",
              "    border: none;\n",
              "    border-radius: 50%;\n",
              "    cursor: pointer;\n",
              "    display: none;\n",
              "    fill: var(--fill-color);\n",
              "    height: 32px;\n",
              "    padding: 0;\n",
              "    width: 32px;\n",
              "  }\n",
              "\n",
              "  .colab-df-quickchart:hover {\n",
              "    background-color: var(--hover-bg-color);\n",
              "    box-shadow: 0 1px 2px rgba(60, 64, 67, 0.3), 0 1px 3px 1px rgba(60, 64, 67, 0.15);\n",
              "    fill: var(--button-hover-fill-color);\n",
              "  }\n",
              "\n",
              "  .colab-df-quickchart-complete:disabled,\n",
              "  .colab-df-quickchart-complete:disabled:hover {\n",
              "    background-color: var(--disabled-bg-color);\n",
              "    fill: var(--disabled-fill-color);\n",
              "    box-shadow: none;\n",
              "  }\n",
              "\n",
              "  .colab-df-spinner {\n",
              "    border: 2px solid var(--fill-color);\n",
              "    border-color: transparent;\n",
              "    border-bottom-color: var(--fill-color);\n",
              "    animation:\n",
              "      spin 1s steps(1) infinite;\n",
              "  }\n",
              "\n",
              "  @keyframes spin {\n",
              "    0% {\n",
              "      border-color: transparent;\n",
              "      border-bottom-color: var(--fill-color);\n",
              "      border-left-color: var(--fill-color);\n",
              "    }\n",
              "    20% {\n",
              "      border-color: transparent;\n",
              "      border-left-color: var(--fill-color);\n",
              "      border-top-color: var(--fill-color);\n",
              "    }\n",
              "    30% {\n",
              "      border-color: transparent;\n",
              "      border-left-color: var(--fill-color);\n",
              "      border-top-color: var(--fill-color);\n",
              "      border-right-color: var(--fill-color);\n",
              "    }\n",
              "    40% {\n",
              "      border-color: transparent;\n",
              "      border-right-color: var(--fill-color);\n",
              "      border-top-color: var(--fill-color);\n",
              "    }\n",
              "    60% {\n",
              "      border-color: transparent;\n",
              "      border-right-color: var(--fill-color);\n",
              "    }\n",
              "    80% {\n",
              "      border-color: transparent;\n",
              "      border-right-color: var(--fill-color);\n",
              "      border-bottom-color: var(--fill-color);\n",
              "    }\n",
              "    90% {\n",
              "      border-color: transparent;\n",
              "      border-bottom-color: var(--fill-color);\n",
              "    }\n",
              "  }\n",
              "</style>\n",
              "\n",
              "  <script>\n",
              "    async function quickchart(key) {\n",
              "      const quickchartButtonEl =\n",
              "        document.querySelector('#' + key + ' button');\n",
              "      quickchartButtonEl.disabled = true;  // To prevent multiple clicks.\n",
              "      quickchartButtonEl.classList.add('colab-df-spinner');\n",
              "      try {\n",
              "        const charts = await google.colab.kernel.invokeFunction(\n",
              "            'suggestCharts', [key], {});\n",
              "      } catch (error) {\n",
              "        console.error('Error during call to suggestCharts:', error);\n",
              "      }\n",
              "      quickchartButtonEl.classList.remove('colab-df-spinner');\n",
              "      quickchartButtonEl.classList.add('colab-df-quickchart-complete');\n",
              "    }\n",
              "    (() => {\n",
              "      let quickchartButtonEl =\n",
              "        document.querySelector('#df-841adb54-58e4-4b68-8b63-f857d75a78ac button');\n",
              "      quickchartButtonEl.style.display =\n",
              "        google.colab.kernel.accessAllowed ? 'block' : 'none';\n",
              "    })();\n",
              "  </script>\n",
              "</div>\n",
              "\n",
              "  <div id=\"id_934bb0ef-a6c5-4d00-b911-7f5b2ec27c28\">\n",
              "    <style>\n",
              "      .colab-df-generate {\n",
              "        background-color: #E8F0FE;\n",
              "        border: none;\n",
              "        border-radius: 50%;\n",
              "        cursor: pointer;\n",
              "        display: none;\n",
              "        fill: #1967D2;\n",
              "        height: 32px;\n",
              "        padding: 0 0 0 0;\n",
              "        width: 32px;\n",
              "      }\n",
              "\n",
              "      .colab-df-generate:hover {\n",
              "        background-color: #E2EBFA;\n",
              "        box-shadow: 0px 1px 2px rgba(60, 64, 67, 0.3), 0px 1px 3px 1px rgba(60, 64, 67, 0.15);\n",
              "        fill: #174EA6;\n",
              "      }\n",
              "\n",
              "      [theme=dark] .colab-df-generate {\n",
              "        background-color: #3B4455;\n",
              "        fill: #D2E3FC;\n",
              "      }\n",
              "\n",
              "      [theme=dark] .colab-df-generate:hover {\n",
              "        background-color: #434B5C;\n",
              "        box-shadow: 0px 1px 3px 1px rgba(0, 0, 0, 0.15);\n",
              "        filter: drop-shadow(0px 1px 2px rgba(0, 0, 0, 0.3));\n",
              "        fill: #FFFFFF;\n",
              "      }\n",
              "    </style>\n",
              "    <button class=\"colab-df-generate\" onclick=\"generateWithVariable('df')\"\n",
              "            title=\"Generate code using this dataframe.\"\n",
              "            style=\"display:none;\">\n",
              "\n",
              "  <svg xmlns=\"http://www.w3.org/2000/svg\" height=\"24px\"viewBox=\"0 0 24 24\"\n",
              "       width=\"24px\">\n",
              "    <path d=\"M7,19H8.4L18.45,9,17,7.55,7,17.6ZM5,21V16.75L18.45,3.32a2,2,0,0,1,2.83,0l1.4,1.43a1.91,1.91,0,0,1,.58,1.4,1.91,1.91,0,0,1-.58,1.4L9.25,21ZM18.45,9,17,7.55Zm-12,3A5.31,5.31,0,0,0,4.9,8.1,5.31,5.31,0,0,0,1,6.5,5.31,5.31,0,0,0,4.9,4.9,5.31,5.31,0,0,0,6.5,1,5.31,5.31,0,0,0,8.1,4.9,5.31,5.31,0,0,0,12,6.5,5.46,5.46,0,0,0,6.5,12Z\"/>\n",
              "  </svg>\n",
              "    </button>\n",
              "    <script>\n",
              "      (() => {\n",
              "      const buttonEl =\n",
              "        document.querySelector('#id_934bb0ef-a6c5-4d00-b911-7f5b2ec27c28 button.colab-df-generate');\n",
              "      buttonEl.style.display =\n",
              "        google.colab.kernel.accessAllowed ? 'block' : 'none';\n",
              "\n",
              "      buttonEl.onclick = () => {\n",
              "        google.colab.notebook.generateWithVariable('df');\n",
              "      }\n",
              "      })();\n",
              "    </script>\n",
              "  </div>\n",
              "\n",
              "    </div>\n",
              "  </div>\n"
            ],
            "text/plain": [
              "   Advertising Spending (X)  Revenue (Y)\n",
              "0                       1.5          7.0\n",
              "1                       2.0          8.0\n",
              "2                       2.5          8.5\n",
              "3                       3.0          9.0\n",
              "4                       3.5          9.5\n",
              "5                       4.0         10.0\n",
              "6                       4.5         11.0\n",
              "7                       5.0         11.5\n",
              "8                       5.5         12.0\n",
              "9                       6.0         12.5"
            ]
          },
          "execution_count": 1,
          "metadata": {},
          "output_type": "execute_result"
        }
      ],
      "source": [
        "import pandas as pd\n",
        "df = pd.read_csv('/content/advertising_revenue_data.csv')\n",
        "df"
      ]
    },
    {
      "cell_type": "markdown",
      "metadata": {
        "id": "eGihl6CBDNHU"
      },
      "source": [
        "From the dataset we know that:  \n",
        "n = 10\n",
        "\n",
        "\n",
        "---\n",
        "\n"
      ]
    },
    {
      "cell_type": "markdown",
      "metadata": {
        "id": "IIdZ6braDk3m"
      },
      "source": [
        "### Arrays for X and Y\n",
        "We now need to gather all the values of the variable x and the ones of y into separate arrays:"
      ]
    },
    {
      "cell_type": "code",
      "execution_count": null,
      "metadata": {
        "id": "6m2JEK_LDB-G"
      },
      "outputs": [],
      "source": [
        "# getting all the x values into a variable:\n",
        "\n",
        "x_values = df['Advertising Spending (X)'].values\n",
        "\n",
        "# getting all the y values into a variable:\n",
        "\n",
        "y_values = df['Revenue (Y)'].values"
      ]
    },
    {
      "cell_type": "markdown",
      "metadata": {
        "id": "0H0GLMUxEAcR"
      },
      "source": [
        "\n",
        "### Computation of the PCC\n",
        "Here is the Pearson r Correlation Coefficient formula:   \n",
        "\n",
        "$$\n",
        "r = \\frac{n(\\sum XY) - (\\sum X)(\\sum Y)}{\\sqrt{[n\\sum X^2 - (\\sum X)^2][n\\sum Y^2 - (\\sum Y)^2]}}\n",
        "$$"
      ]
    },
    {
      "cell_type": "markdown",
      "metadata": {
        "id": "IsAza9-mKhzo"
      },
      "source": [
        "Let's calculate it using numpy!"
      ]
    },
    {
      "cell_type": "code",
      "execution_count": null,
      "metadata": {
        "colab": {
          "base_uri": "https://localhost:8080/"
        },
        "id": "nRaNVF64Iym8",
        "outputId": "46d3bc77-a3aa-4700-c266-2c43297d9232"
      },
      "outputs": [
        {
          "name": "stdout",
          "output_type": "stream",
          "text": [
            "0.997\n"
          ]
        }
      ],
      "source": [
        "import numpy as np\n",
        "\n",
        "def pearson_correlation_coefficient(x, y):\n",
        "    \"\"\"\n",
        "    Calculates the Pearson correlation coefficient between two arrays using the formula:\n",
        "    r = [n(∑XY) - (∑X)(∑Y)] / √{[n∑X^2 - (∑X)^2][n∑Y^2 - (∑Y)^2]}.\n",
        "\n",
        "    Args:\n",
        "        x: The first array.\n",
        "        y: The second array.\n",
        "\n",
        "    Returns:\n",
        "        The Pearson correlation coefficient.\n",
        "    \"\"\"\n",
        "\n",
        "    n = len(x)\n",
        "\n",
        "    # Calculate the sums and sums of squares\n",
        "    sum_x = np.sum(x)\n",
        "    sum_y = np.sum(y)\n",
        "    sum_xy = np.sum(x * y)\n",
        "    sum_x_squared = np.sum(x ** 2)\n",
        "    sum_y_squared = np.sum(y ** 2)\n",
        "\n",
        "    # Calculate the numerator and denominator of the formula\n",
        "    numerator = n * sum_xy - sum_x * sum_y\n",
        "    denominator = np.sqrt((n * sum_x_squared - sum_x ** 2) * (n * sum_y_squared - sum_y ** 2))\n",
        "\n",
        "    # Return the Pearson correlation coefficient\n",
        "    return numerator / denominator\n",
        "\n",
        "pcc = pearson_correlation_coefficient(x_values, y_values)\n",
        "print(round(pcc, 3))\n"
      ]
    },
    {
      "cell_type": "markdown",
      "metadata": {
        "id": "JeR0GxtXLCyV"
      },
      "source": [
        "$$\n",
        "r = 0.997\n",
        "$$"
      ]
    },
    {
      "cell_type": "markdown",
      "metadata": {
        "id": "xqmyWaXlLRiL"
      },
      "source": [
        "The result of the Pearson r correlation coefficient is almost equal to 1. This indicates **a very strong relation between the variable x and y.**\n",
        "\n",
        "## Conclusion\n",
        "\n",
        "The Pearson correlation coefficient and the linear regression analysis both indicate a **strong positive relationship** between **advertising spending and revenue**.\n",
        "\n",
        "This suggests that, **as advertising spending increases, revenue tends to increase as well.**\n",
        "\n",
        "### Recommendations: \n",
        "\n",
        "#### a. Refine Data on Ads Budget Sizes and their respective impact on Revenue\n",
        "To gain deeper insights, I recommend that **the Marketing team collaborates with the Data team** to refine the analysis by **examining different budget sizes (or spending amounts)** (e.g., < 500$, < 1K$, < 3K$, < 10K$) and their respective impact on sales. This would provide a **more nuanced understanding** of how various budget size influence revenue. We may identify a **limit threshold** upon which the return on investment is not worth the speding amount. \n",
        "\n",
        "#### b. Time-based Analysis\n",
        "Additionally, I suggest incorporating **a time-based analysis to identify seasonal patterns** in the relationship between budget sizes and their impact on revenue. Understanding these patterns could **help tailor the marketing strategy** to leverage key periods more effectively, optimizing promotional efforts based on new, time-sensitive insights.  \n",
        "\n",
        "#### c. Segment Analysis by Product Categories\n",
        "Conduct a **segmented analysis to determine if the relationship varies by product category**. This could help the Marketing team create more tailored strategies, where efficient budgets are allocated on corresponding categories for the most significant revenues.\n",
        "\n",
        "#### d. Integrate Other Data Sources: \n",
        "Combine this analysis **with other relevant data sources**, such as pricing, promotions, or product availability, to **understand the broader context**. This multi-variable analysis can **help pinpoint additional factors** influencing sales and optimize the overall strategy accordingly.\n",
        "\n",
        "\n",
        "---\n",
        "\n"
      ]
    },
    {
      "cell_type": "markdown",
      "metadata": {
        "id": "1YsaFvtwLyqG"
      },
      "source": [
        "### Visualization\n",
        "Let's visualize it:"
      ]
    },
    {
      "cell_type": "code",
      "execution_count": null,
      "metadata": {
        "colab": {
          "base_uri": "https://localhost:8080/",
          "height": 564
        },
        "id": "VAwV4qK1K2es",
        "outputId": "445271c4-49cb-4d40-b007-f496c5fdc4b1"
      },
      "outputs": [
        {
          "data": {
            "image/png": "[encoded data removed]",
            "text/plain": [
              "<Figure size 800x600 with 1 Axes>"
            ]
          },
          "metadata": {},
          "output_type": "display_data"
        }
      ],
      "source": [
        "# Assuming your dataset is in a pandas DataFrame called 'df'\n",
        "# with columns 'advertising_spending' and 'revenue'\n",
        "\n",
        "plt.figure(figsize=(8, 6))\n",
        "plt.scatter(df['Advertising Spending (X)'], df['Revenue (Y)'])\n",
        "plt.xlabel('Advertising Spending (in thousands of dollars)')\n",
        "plt.ylabel('Revenue Generated (in thousands of dollars)')\n",
        "plt.title('Scatter Plot of Advertising Spending vs. Revenue')\n",
        "plt.grid(True)\n",
        "plt.show()"
      ]
    },
    {
      "cell_type": "code",
      "execution_count": null,
      "metadata": {
        "colab": {
          "base_uri": "https://localhost:8080/",
          "height": 564
        },
        "id": "hzSsBqEDMIH5",
        "outputId": "51e0cf0b-5c4f-4e97-8e2f-f035ccb55806"
      },
      "outputs": [
        {
          "data": {
            "image/png": "[encoded data removed]",
            "text/plain": [
              "<Figure size 800x600 with 1 Axes>"
            ]
          },
          "metadata": {},
          "output_type": "display_data"
        }
      ],
      "source": [
        "from scipy import stats\n",
        "\n",
        "# Perform linear regression\n",
        "slope, intercept, _, _, _ = stats.linregress(x_values, y_values)\n",
        "\n",
        "# Create the scatter plot\n",
        "plt.figure(figsize=(8, 6))\n",
        "plt.scatter(x_values, y_values)\n",
        "\n",
        "# Create the regression line\n",
        "regression_line = slope * x_values + intercept\n",
        "plt.plot(x_values, regression_line, color='red')\n",
        "\n",
        "plt.xlabel('Advertising Spending (in thousands of dollars)')\n",
        "plt.ylabel('Revenue Generated (in thousands of dollars)')\n",
        "plt.title('Scatter Plot with Linear Regression Line')\n",
        "plt.grid(True)\n",
        "plt.show()"
      ]
    },
    {
      "cell_type": "code",
      "execution_count": null,
      "metadata": {
        "id": "f_yvaYXPM_V9"
      },
      "outputs": [],
      "source": []
    }
  ],
  "metadata": {
    "colab": {
      "collapsed_sections": [
        "1YsaFvtwLyqG"
      ],
      "provenance": [],
      "toc_visible": true
    },
    "kernelspec": {
      "display_name": "Python 3",
      "name": "python3"
    },
    "language_info": {
      "name": "python"
    }
  },
  "nbformat": 4,
  "nbformat_minor": 0
}
